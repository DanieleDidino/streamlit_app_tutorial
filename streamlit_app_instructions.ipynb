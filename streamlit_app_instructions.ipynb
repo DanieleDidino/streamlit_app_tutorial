{
 "cells": [
  {
   "cell_type": "markdown",
   "id": "e835c814-bd96-4b90-9078-6db47784ad52",
   "metadata": {},
   "source": [
    "## Building and Deploying a Streamlit App for Maching Learning\n",
    "In this tutorial, we walk through how you can build and deploy a visual front-end to your machine learning applications. \n",
    "We will use [streamlit](https://docs.streamlit.io/library/get-started/main-concepts), which an easy-to-use framework for creating interactive visualizations and applications in Python (this is in contrast to [plotly dash](https://dash.plotly.com) which, although technically python, relies a lot on HTML and CSS knowledge)."
   ]
  },
  {
   "cell_type": "markdown",
   "id": "daf95bf4-c2db-43e8-a81c-0cec57b980c5",
   "metadata": {},
   "source": [
    "### Installing Streamlit and Making a Virtual Environment \n",
    "When we make a new front-end application, we want to use a virtual environment. [Pipenv](https://pipenv-fork.readthedocs.io/en/latest/) will be our tool of choice. Pipenv makes it easy to combine both requirements management and virtual environments at the same time.\n",
    "\n",
    "First, move into the project directory:\n",
    "\n",
    "`cd my_project`\n",
    "\n",
    "Then, run:\n",
    "\n",
    "`pipenv shell` \n",
    "to activate the pipenv.\n",
    "\n",
    "That's all you have to do! \n",
    "\n",
    "After that, when you install packages via `pipenv install [package_name]`, they will be automatically added to your `Pipfile.lock`. No need to update a requirements file all the time!\n",
    "\n",
    "Note: if using pycharm, it can be helpful to use [these steps](https://stackoverflow.com/questions/46251411/how-do-i-properly-setup-pipenv-in-pycharm) to make sure you're using the virtual environment when running your code in pycharm. "
   ]
  },
  {
   "cell_type": "markdown",
   "id": "058faf86-20b0-407a-9b13-90607e6ccdf6",
   "metadata": {},
   "source": [
    "### Starting up the App\n",
    "Open the file entitled `streamlit_app.py`.\n",
    "\n",
    "Here you have a basic skeleton of an application. This code will simply display a table with 2 columns.\n",
    "\n",
    "\n",
    "<img src=\"./images/code_snippet_1.png\" width=\"300\"/>\n",
    "Code of the basic app.\n",
    "\n",
    "\n",
    "We run the app using the following command:\n",
    "\n",
    "`streamlit run streamlit_app.py`\n",
    "\n",
    "This command opens a new browser window with our streamlit app running. The great thing about streamlit is that the app will be automatically updated whenever we save the file. \n",
    "\n",
    "Running the command, we see the following output in the browser:\n",
    "<img src=\"./images/app_screenshot_1.png\" width=\"300\"/>\n"
   ]
  },
  {
   "cell_type": "markdown",
   "id": "bbdd4d2d-9bbc-4699-9f79-58cd251e9a75",
   "metadata": {},
   "source": [
    "### Working with real data \n",
    "Here, we will import the actual Telco churn data and use it as an example for making a streamlit application to deploy. "
   ]
  },
  {
   "cell_type": "code",
   "execution_count": null,
   "id": "022b8843-3cdd-4588-813b-5527a8c209ca",
   "metadata": {},
   "outputs": [],
   "source": [
    "import streamlit as st\n",
    "import pandas as pd\n",
    "\n",
    "# importing customer churn data\n",
    "data = pd.read_csv(\"./data/WA_Fn-UseC_-Telco-Customer-Churn.csv\", index_col=0)\n",
    "st.write(\"Churn Data\")\n",
    "st.write(data)"
   ]
  },
  {
   "cell_type": "markdown",
   "id": "27174323-98c5-4db2-bc0b-f3c45eb27cf9",
   "metadata": {},
   "source": [
    "Note: look at what happens when you replace the line\n",
    "`st.write(data)` in the code above with `st.table(data)`."
   ]
  },
  {
   "cell_type": "markdown",
   "id": "d68f46fd-6a7c-460b-bbe7-1f8478acd116",
   "metadata": {},
   "source": [
    "Now, our streamlit app looks like this:\n",
    "\n",
    "<img src=\"./images/app_screenshot_2.png\" width=\"300\"/>\n",
    "\n",
    "Note that it shows the entire dataframe, and we can even move around to explore the columns and rows."
   ]
  },
  {
   "cell_type": "markdown",
   "id": "da7c769f-f3f2-4e65-825b-ec1361100117",
   "metadata": {},
   "source": [
    "### Adding Elements\n",
    "Now, we will explore adding more elements to our app and making some visualizations. \n",
    "\n",
    "We'll start how we should always start in a new DS project: by visualizing the target.\n",
    "\n",
    "Add the code in the next cell to your streamlit app, underneath the dataset visualization. You'll now see a nice bar chart. "
   ]
  },
  {
   "cell_type": "markdown",
   "id": "b876e15a-698c-4a47-b520-2a6fde53f5b1",
   "metadata": {},
   "source": [
    "<img src=\"./images/app_screenshot_3.png\" width=\"300\"/>"
   ]
  },
  {
   "cell_type": "code",
   "execution_count": null,
   "id": "256507c8-a6ae-46a6-9d03-10b1aca6b8fd",
   "metadata": {},
   "outputs": [],
   "source": [
    "st.write(\"How many customers in the dataset churned?\")\n",
    "target_bins = data.loc[:, 'Churn'].value_counts()\n",
    "st.bar_chart(target_bins)"
   ]
  },
  {
   "cell_type": "markdown",
   "id": "b1378fee-8862-4e80-94a8-28eef1a75f9e",
   "metadata": {},
   "source": [
    "#### Exercise \n",
    "Add some new elements to your application. Look in the [streamlit documentation](https://docs.streamlit.io/library/api-reference/widgets/st.selectbox)"
   ]
  },
  {
   "cell_type": "code",
   "execution_count": null,
   "id": "81398f28-7a48-43ef-b487-f634e53665d7",
   "metadata": {},
   "outputs": [],
   "source": []
  },
  {
   "cell_type": "code",
   "execution_count": null,
   "id": "31c20db9-bcef-4ddf-b5db-76a827820a7b",
   "metadata": {},
   "outputs": [],
   "source": []
  },
  {
   "cell_type": "code",
   "execution_count": null,
   "id": "0f926539-5da9-4a71-a785-bfc37d45524f",
   "metadata": {},
   "outputs": [],
   "source": []
  },
  {
   "cell_type": "markdown",
   "id": "66f1b89d-65a7-4cfa-805f-04d9024bc5be",
   "metadata": {},
   "source": [
    "### Making the Prediction App\n",
    "Here, we move to the other file: `prediction_streamlit_app.py`. \n",
    "\n",
    "Here, we will look at integrating machine learning models into the application, and making predicitons. \n",
    "\n",
    "#### Preparing the code for use in the app\n",
    "We need to update the code used for making a prediction. \n",
    "\n",
    "For this, we also need anything that must be applied to the model to make a pred"
   ]
  },
  {
   "cell_type": "code",
   "execution_count": null,
   "id": "1e76ddf4-cfcd-49ad-9d33-46762e5f4095",
   "metadata": {},
   "outputs": [],
   "source": []
  },
  {
   "cell_type": "code",
   "execution_count": null,
   "id": "a3216fa0-a7eb-4036-a91f-7f29321ce628",
   "metadata": {},
   "outputs": [],
   "source": []
  },
  {
   "cell_type": "code",
   "execution_count": null,
   "id": "46566c78-c856-4273-b8c7-0be2da072bdb",
   "metadata": {},
   "outputs": [],
   "source": []
  },
  {
   "cell_type": "code",
   "execution_count": null,
   "id": "802459fa-767e-44be-a8c5-c36c6846e21d",
   "metadata": {},
   "outputs": [],
   "source": []
  },
  {
   "cell_type": "code",
   "execution_count": null,
   "id": "c2d7d0b4-97b1-44aa-8dad-aa7554eb642f",
   "metadata": {},
   "outputs": [],
   "source": []
  },
  {
   "cell_type": "code",
   "execution_count": null,
   "id": "f4616617-bcc9-45b7-a374-6e5626077159",
   "metadata": {},
   "outputs": [],
   "source": []
  },
  {
   "cell_type": "code",
   "execution_count": null,
   "id": "0b8c5e5e-40e5-420c-8dfa-ca6d26805cb1",
   "metadata": {},
   "outputs": [],
   "source": []
  },
  {
   "cell_type": "code",
   "execution_count": null,
   "id": "60958410-4847-4138-b808-c989bd1c8ce1",
   "metadata": {},
   "outputs": [],
   "source": []
  },
  {
   "cell_type": "code",
   "execution_count": null,
   "id": "09c0c9be-5050-4c16-a690-23fd966a499b",
   "metadata": {},
   "outputs": [],
   "source": []
  },
  {
   "cell_type": "code",
   "execution_count": null,
   "id": "bfc1a7f9-8170-4866-984d-69602c03d10d",
   "metadata": {},
   "outputs": [],
   "source": []
  },
  {
   "cell_type": "code",
   "execution_count": null,
   "id": "1c0f6ee6-47d8-43be-8110-3133757727e0",
   "metadata": {},
   "outputs": [],
   "source": []
  },
  {
   "cell_type": "code",
   "execution_count": null,
   "id": "e0ab4990-11ab-4f8c-90be-b62a0f4b2b04",
   "metadata": {},
   "outputs": [],
   "source": []
  },
  {
   "cell_type": "code",
   "execution_count": null,
   "id": "716cd30f-a707-4d2b-a2a0-ffe4fc405d08",
   "metadata": {},
   "outputs": [],
   "source": []
  },
  {
   "cell_type": "code",
   "execution_count": null,
   "id": "a60fc2d4-01fe-44bd-8bee-2706427a8a0c",
   "metadata": {},
   "outputs": [],
   "source": []
  },
  {
   "cell_type": "markdown",
   "id": "5ee37fca-35c7-4f5f-a0f6-7a37a6b894cb",
   "metadata": {},
   "source": [
    "Data Analysis:"
   ]
  },
  {
   "cell_type": "code",
   "execution_count": 5,
   "id": "2fdee41c-938e-40ab-8f7f-745e60c87eaf",
   "metadata": {},
   "outputs": [],
   "source": [
    "import pandas as pd\n",
    "import matplotlib.pyplot as plt"
   ]
  },
  {
   "cell_type": "code",
   "execution_count": 4,
   "id": "457c42fe-a382-4f1e-9539-e8e6bac41f03",
   "metadata": {},
   "outputs": [],
   "source": [
    "data = pd.read_csv(\"./data/WA_Fn-UseC_-Telco-Customer-Churn.csv\", index_col=0)"
   ]
  },
  {
   "cell_type": "code",
   "execution_count": 11,
   "id": "88a62810-6a1b-44c0-9e72-bb818f94f2e1",
   "metadata": {},
   "outputs": [
    {
     "data": {
      "text/plain": [
       "Index(['gender', 'SeniorCitizen', 'Partner', 'Dependents', 'tenure',\n",
       "       'PhoneService', 'MultipleLines', 'InternetService', 'OnlineSecurity',\n",
       "       'OnlineBackup', 'DeviceProtection', 'TechSupport', 'StreamingTV',\n",
       "       'StreamingMovies', 'Contract', 'PaperlessBilling', 'PaymentMethod',\n",
       "       'MonthlyCharges', 'TotalCharges', 'Churn'],\n",
       "      dtype='object')"
      ]
     },
     "execution_count": 11,
     "metadata": {},
     "output_type": "execute_result"
    }
   ],
   "source": [
    "data.columns"
   ]
  },
  {
   "cell_type": "markdown",
   "id": "2c27c34f-94a4-48da-a18c-d913c033187e",
   "metadata": {},
   "source": [
    "Training Model"
   ]
  },
  {
   "cell_type": "code",
   "execution_count": 16,
   "id": "37b3ddba-53ae-41af-8224-07b7ef0da01b",
   "metadata": {},
   "outputs": [],
   "source": [
    "# generating test data\n",
    "from sklearn.model_selection import train_test_split"
   ]
  },
  {
   "cell_type": "code",
   "execution_count": 18,
   "id": "d991510d-d5b7-406a-b628-59af73379435",
   "metadata": {},
   "outputs": [],
   "source": [
    "X = data.drop(columns=\"Churn\")\n",
    "y = data.loc[:, \"Churn\"]"
   ]
  },
  {
   "cell_type": "code",
   "execution_count": null,
   "id": "ad0ba73e-4ffb-4b28-ba41-7defc817c5b5",
   "metadata": {},
   "outputs": [],
   "source": []
  },
  {
   "cell_type": "code",
   "execution_count": null,
   "id": "f8679945-f60a-4677-a8b6-50e26a7677b9",
   "metadata": {},
   "outputs": [],
   "source": []
  },
  {
   "cell_type": "code",
   "execution_count": 31,
   "id": "9cf6d554-1217-48df-b774-9e2dc1f15c4a",
   "metadata": {},
   "outputs": [],
   "source": [
    "X_train, X_test, Y_train, Y_test = train_test_split(X, y)"
   ]
  },
  {
   "cell_type": "code",
   "execution_count": 32,
   "id": "96a44132-3fc5-4d8c-9f58-f9592bddf550",
   "metadata": {},
   "outputs": [
    {
     "data": {
      "text/plain": [
       "(1761, 19)"
      ]
     },
     "execution_count": 32,
     "metadata": {},
     "output_type": "execute_result"
    }
   ],
   "source": [
    "X_test.shape"
   ]
  },
  {
   "cell_type": "code",
   "execution_count": 33,
   "id": "489096dc-4b96-4518-be0c-b42ebf7fa10a",
   "metadata": {},
   "outputs": [
    {
     "data": {
      "text/plain": [
       "(1761,)"
      ]
     },
     "execution_count": 33,
     "metadata": {},
     "output_type": "execute_result"
    }
   ],
   "source": [
    "Y_test.shape"
   ]
  },
  {
   "cell_type": "code",
   "execution_count": 38,
   "id": "367ef38b-f335-4a20-b5ba-168162a2521a",
   "metadata": {},
   "outputs": [],
   "source": [
    "# Further splitting X into validation and test\n",
    "training_data = pd.concat([X_train, Y_train], axis=1)\n",
    "full_test_data = pd.concat([X_test, Y_test], axis=1)\n",
    "holdout_data = full_test_data.iloc[:1000, :]\n",
    "val_data = full_test_data.iloc[1000:, :]"
   ]
  },
  {
   "cell_type": "code",
   "execution_count": 39,
   "id": "d5216af9-7355-4e08-82fa-d57e399fa9a0",
   "metadata": {},
   "outputs": [
    {
     "data": {
      "text/plain": [
       "(5282, 20)"
      ]
     },
     "execution_count": 39,
     "metadata": {},
     "output_type": "execute_result"
    }
   ],
   "source": [
    "training_data.shape"
   ]
  },
  {
   "cell_type": "code",
   "execution_count": 40,
   "id": "95aae97c-6018-4c8c-ab92-a688314efc03",
   "metadata": {},
   "outputs": [
    {
     "data": {
      "text/plain": [
       "(761, 20)"
      ]
     },
     "execution_count": 40,
     "metadata": {},
     "output_type": "execute_result"
    }
   ],
   "source": [
    "val_data.shape"
   ]
  },
  {
   "cell_type": "code",
   "execution_count": 41,
   "id": "5d56ad8c-3594-43cc-83bf-c96f839373e8",
   "metadata": {},
   "outputs": [
    {
     "data": {
      "text/plain": [
       "(1000, 20)"
      ]
     },
     "execution_count": 41,
     "metadata": {},
     "output_type": "execute_result"
    }
   ],
   "source": [
    "holdout_data.shape"
   ]
  },
  {
   "cell_type": "code",
   "execution_count": 43,
   "id": "d61e0210-0eed-4b6e-a097-fc4793d75042",
   "metadata": {},
   "outputs": [],
   "source": [
    "training_data.to_csv('./data/training_data.csv')\n",
    "holdout_data.to_csv('./data/holdout_data.csv')\n",
    "val_data.to_csv('./data/validation_data.csv')"
   ]
  },
  {
   "cell_type": "code",
   "execution_count": 44,
   "id": "d1ae4b0b-d54f-4d4b-9e00-aed984dbb1d9",
   "metadata": {},
   "outputs": [],
   "source": [
    "single_row = training_data.iloc[:1,:]"
   ]
  },
  {
   "cell_type": "code",
   "execution_count": 46,
   "id": "b8130b3f-4ddd-4731-be03-28250bcc504a",
   "metadata": {},
   "outputs": [],
   "source": [
    "single_row.to_csv(\"./data/single_row_to_check.csv\")"
   ]
  },
  {
   "cell_type": "code",
   "execution_count": 48,
   "id": "6de319ba-6da0-4cfe-a655-bb9f05a78173",
   "metadata": {},
   "outputs": [],
   "source": [
    "customer_data = X_test"
   ]
  },
  {
   "cell_type": "code",
   "execution_count": 49,
   "id": "a953e515-6a55-45ed-a37d-c1f9d973f066",
   "metadata": {},
   "outputs": [],
   "source": [
    "customer = \"4393-GEADV\""
   ]
  },
  {
   "cell_type": "code",
   "execution_count": 51,
   "id": "758ae31a-1c05-4679-bab0-e3e59dd931a4",
   "metadata": {},
   "outputs": [],
   "source": [
    "customer_data.reset_index(inplace=True)"
   ]
  },
  {
   "cell_type": "code",
   "execution_count": 53,
   "id": "7409f89a-87f5-4527-9b47-78b933e8e306",
   "metadata": {},
   "outputs": [
    {
     "data": {
      "text/html": [
       "<div>\n",
       "<style scoped>\n",
       "    .dataframe tbody tr th:only-of-type {\n",
       "        vertical-align: middle;\n",
       "    }\n",
       "\n",
       "    .dataframe tbody tr th {\n",
       "        vertical-align: top;\n",
       "    }\n",
       "\n",
       "    .dataframe thead th {\n",
       "        text-align: right;\n",
       "    }\n",
       "</style>\n",
       "<table border=\"1\" class=\"dataframe\">\n",
       "  <thead>\n",
       "    <tr style=\"text-align: right;\">\n",
       "      <th></th>\n",
       "      <th>customerID</th>\n",
       "      <th>gender</th>\n",
       "      <th>SeniorCitizen</th>\n",
       "      <th>Partner</th>\n",
       "      <th>Dependents</th>\n",
       "      <th>tenure</th>\n",
       "      <th>PhoneService</th>\n",
       "      <th>MultipleLines</th>\n",
       "      <th>InternetService</th>\n",
       "      <th>OnlineSecurity</th>\n",
       "      <th>OnlineBackup</th>\n",
       "      <th>DeviceProtection</th>\n",
       "      <th>TechSupport</th>\n",
       "      <th>StreamingTV</th>\n",
       "      <th>StreamingMovies</th>\n",
       "      <th>Contract</th>\n",
       "      <th>PaperlessBilling</th>\n",
       "      <th>PaymentMethod</th>\n",
       "      <th>MonthlyCharges</th>\n",
       "      <th>TotalCharges</th>\n",
       "    </tr>\n",
       "  </thead>\n",
       "  <tbody>\n",
       "    <tr>\n",
       "      <th>5</th>\n",
       "      <td>4393-GEADV</td>\n",
       "      <td>Male</td>\n",
       "      <td>0</td>\n",
       "      <td>Yes</td>\n",
       "      <td>Yes</td>\n",
       "      <td>70</td>\n",
       "      <td>Yes</td>\n",
       "      <td>Yes</td>\n",
       "      <td>Fiber optic</td>\n",
       "      <td>Yes</td>\n",
       "      <td>Yes</td>\n",
       "      <td>Yes</td>\n",
       "      <td>Yes</td>\n",
       "      <td>Yes</td>\n",
       "      <td>Yes</td>\n",
       "      <td>Two year</td>\n",
       "      <td>No</td>\n",
       "      <td>Credit card (automatic)</td>\n",
       "      <td>114.75</td>\n",
       "      <td>7842.3</td>\n",
       "    </tr>\n",
       "  </tbody>\n",
       "</table>\n",
       "</div>"
      ],
      "text/plain": [
       "   customerID gender  SeniorCitizen Partner Dependents  tenure PhoneService  \\\n",
       "5  4393-GEADV   Male              0     Yes        Yes      70          Yes   \n",
       "\n",
       "  MultipleLines InternetService OnlineSecurity OnlineBackup DeviceProtection  \\\n",
       "5           Yes     Fiber optic            Yes          Yes              Yes   \n",
       "\n",
       "  TechSupport StreamingTV StreamingMovies  Contract PaperlessBilling  \\\n",
       "5         Yes         Yes             Yes  Two year               No   \n",
       "\n",
       "             PaymentMethod  MonthlyCharges TotalCharges  \n",
       "5  Credit card (automatic)          114.75       7842.3  "
      ]
     },
     "execution_count": 53,
     "metadata": {},
     "output_type": "execute_result"
    }
   ],
   "source": [
    "customer_data.loc[customer_data.loc[:, 'customerID']==customer]"
   ]
  },
  {
   "cell_type": "code",
   "execution_count": 55,
   "id": "4d06938c-44fe-4a5b-bc7a-1ff446906f6a",
   "metadata": {},
   "outputs": [],
   "source": [
    "to_vis = customer_data.drop(columns=\"customerID\")"
   ]
  },
  {
   "cell_type": "code",
   "execution_count": 56,
   "id": "a3656f6b-01ae-4937-b47c-d42215ac6f85",
   "metadata": {},
   "outputs": [
    {
     "data": {
      "text/html": [
       "<div>\n",
       "<style scoped>\n",
       "    .dataframe tbody tr th:only-of-type {\n",
       "        vertical-align: middle;\n",
       "    }\n",
       "\n",
       "    .dataframe tbody tr th {\n",
       "        vertical-align: top;\n",
       "    }\n",
       "\n",
       "    .dataframe thead th {\n",
       "        text-align: right;\n",
       "    }\n",
       "</style>\n",
       "<table border=\"1\" class=\"dataframe\">\n",
       "  <thead>\n",
       "    <tr style=\"text-align: right;\">\n",
       "      <th></th>\n",
       "      <th>gender</th>\n",
       "      <th>SeniorCitizen</th>\n",
       "      <th>Partner</th>\n",
       "      <th>Dependents</th>\n",
       "      <th>tenure</th>\n",
       "      <th>PhoneService</th>\n",
       "      <th>MultipleLines</th>\n",
       "      <th>InternetService</th>\n",
       "      <th>OnlineSecurity</th>\n",
       "      <th>OnlineBackup</th>\n",
       "      <th>DeviceProtection</th>\n",
       "      <th>TechSupport</th>\n",
       "      <th>StreamingTV</th>\n",
       "      <th>StreamingMovies</th>\n",
       "      <th>Contract</th>\n",
       "      <th>PaperlessBilling</th>\n",
       "      <th>PaymentMethod</th>\n",
       "      <th>MonthlyCharges</th>\n",
       "      <th>TotalCharges</th>\n",
       "    </tr>\n",
       "  </thead>\n",
       "  <tbody>\n",
       "    <tr>\n",
       "      <th>0</th>\n",
       "      <td>Female</td>\n",
       "      <td>0</td>\n",
       "      <td>No</td>\n",
       "      <td>No</td>\n",
       "      <td>36</td>\n",
       "      <td>Yes</td>\n",
       "      <td>Yes</td>\n",
       "      <td>DSL</td>\n",
       "      <td>No</td>\n",
       "      <td>Yes</td>\n",
       "      <td>No</td>\n",
       "      <td>Yes</td>\n",
       "      <td>No</td>\n",
       "      <td>Yes</td>\n",
       "      <td>One year</td>\n",
       "      <td>Yes</td>\n",
       "      <td>Mailed check</td>\n",
       "      <td>70.70</td>\n",
       "      <td>2511.95</td>\n",
       "    </tr>\n",
       "    <tr>\n",
       "      <th>1</th>\n",
       "      <td>Female</td>\n",
       "      <td>0</td>\n",
       "      <td>Yes</td>\n",
       "      <td>No</td>\n",
       "      <td>37</td>\n",
       "      <td>Yes</td>\n",
       "      <td>Yes</td>\n",
       "      <td>Fiber optic</td>\n",
       "      <td>No</td>\n",
       "      <td>No</td>\n",
       "      <td>Yes</td>\n",
       "      <td>No</td>\n",
       "      <td>No</td>\n",
       "      <td>No</td>\n",
       "      <td>Month-to-month</td>\n",
       "      <td>Yes</td>\n",
       "      <td>Credit card (automatic)</td>\n",
       "      <td>78.95</td>\n",
       "      <td>2839.65</td>\n",
       "    </tr>\n",
       "    <tr>\n",
       "      <th>2</th>\n",
       "      <td>Male</td>\n",
       "      <td>0</td>\n",
       "      <td>Yes</td>\n",
       "      <td>No</td>\n",
       "      <td>60</td>\n",
       "      <td>No</td>\n",
       "      <td>No phone service</td>\n",
       "      <td>DSL</td>\n",
       "      <td>No</td>\n",
       "      <td>Yes</td>\n",
       "      <td>Yes</td>\n",
       "      <td>Yes</td>\n",
       "      <td>Yes</td>\n",
       "      <td>Yes</td>\n",
       "      <td>Month-to-month</td>\n",
       "      <td>Yes</td>\n",
       "      <td>Bank transfer (automatic)</td>\n",
       "      <td>60.20</td>\n",
       "      <td>3582.4</td>\n",
       "    </tr>\n",
       "    <tr>\n",
       "      <th>3</th>\n",
       "      <td>Female</td>\n",
       "      <td>0</td>\n",
       "      <td>Yes</td>\n",
       "      <td>Yes</td>\n",
       "      <td>8</td>\n",
       "      <td>Yes</td>\n",
       "      <td>Yes</td>\n",
       "      <td>DSL</td>\n",
       "      <td>No</td>\n",
       "      <td>Yes</td>\n",
       "      <td>No</td>\n",
       "      <td>No</td>\n",
       "      <td>No</td>\n",
       "      <td>No</td>\n",
       "      <td>Month-to-month</td>\n",
       "      <td>No</td>\n",
       "      <td>Electronic check</td>\n",
       "      <td>55.75</td>\n",
       "      <td>446.8</td>\n",
       "    </tr>\n",
       "    <tr>\n",
       "      <th>4</th>\n",
       "      <td>Female</td>\n",
       "      <td>0</td>\n",
       "      <td>Yes</td>\n",
       "      <td>Yes</td>\n",
       "      <td>31</td>\n",
       "      <td>Yes</td>\n",
       "      <td>Yes</td>\n",
       "      <td>DSL</td>\n",
       "      <td>No</td>\n",
       "      <td>Yes</td>\n",
       "      <td>No</td>\n",
       "      <td>Yes</td>\n",
       "      <td>Yes</td>\n",
       "      <td>Yes</td>\n",
       "      <td>Two year</td>\n",
       "      <td>No</td>\n",
       "      <td>Bank transfer (automatic)</td>\n",
       "      <td>80.55</td>\n",
       "      <td>2471.6</td>\n",
       "    </tr>\n",
       "  </tbody>\n",
       "</table>\n",
       "</div>"
      ],
      "text/plain": [
       "   gender  SeniorCitizen Partner Dependents  tenure PhoneService  \\\n",
       "0  Female              0      No         No      36          Yes   \n",
       "1  Female              0     Yes         No      37          Yes   \n",
       "2    Male              0     Yes         No      60           No   \n",
       "3  Female              0     Yes        Yes       8          Yes   \n",
       "4  Female              0     Yes        Yes      31          Yes   \n",
       "\n",
       "      MultipleLines InternetService OnlineSecurity OnlineBackup  \\\n",
       "0               Yes             DSL             No          Yes   \n",
       "1               Yes     Fiber optic             No           No   \n",
       "2  No phone service             DSL             No          Yes   \n",
       "3               Yes             DSL             No          Yes   \n",
       "4               Yes             DSL             No          Yes   \n",
       "\n",
       "  DeviceProtection TechSupport StreamingTV StreamingMovies        Contract  \\\n",
       "0               No         Yes          No             Yes        One year   \n",
       "1              Yes          No          No              No  Month-to-month   \n",
       "2              Yes         Yes         Yes             Yes  Month-to-month   \n",
       "3               No          No          No              No  Month-to-month   \n",
       "4               No         Yes         Yes             Yes        Two year   \n",
       "\n",
       "  PaperlessBilling              PaymentMethod  MonthlyCharges TotalCharges  \n",
       "0              Yes               Mailed check           70.70      2511.95  \n",
       "1              Yes    Credit card (automatic)           78.95      2839.65  \n",
       "2              Yes  Bank transfer (automatic)           60.20       3582.4  \n",
       "3               No           Electronic check           55.75        446.8  \n",
       "4               No  Bank transfer (automatic)           80.55       2471.6  "
      ]
     },
     "execution_count": 56,
     "metadata": {},
     "output_type": "execute_result"
    }
   ],
   "source": [
    "to_vis.head()"
   ]
  },
  {
   "cell_type": "code",
   "execution_count": 57,
   "id": "a955d6ab-4487-4286-a245-606184103e84",
   "metadata": {},
   "outputs": [
    {
     "name": "stdout",
     "output_type": "stream",
     "text": [
      "COLUMN gender: \n",
      "\n",
      "['Female' 'Male'] \n",
      "\n",
      "\n",
      "COLUMN SeniorCitizen: \n",
      "\n",
      "[0 1] \n",
      "\n",
      "\n",
      "COLUMN Partner: \n",
      "\n",
      "['No' 'Yes'] \n",
      "\n",
      "\n",
      "COLUMN Dependents: \n",
      "\n",
      "['No' 'Yes'] \n",
      "\n",
      "\n",
      "COLUMN tenure: \n",
      "\n",
      "[36 37 60  8 31 70 18 32 72 40 19  1 15 22 55 34 20 59 49 16 17  2 54 56\n",
      " 12 24 66 23  3 62 26 63 13 38 41  7 71 11 50 27 44 53 43 46 28 30  9 33\n",
      " 64 52 10 67 35  4 21  6 68 48  0 25 39 57  5 58 14 51 45 29 69 47 65 61\n",
      " 42] \n",
      "\n",
      "\n",
      "COLUMN PhoneService: \n",
      "\n",
      "['Yes' 'No'] \n",
      "\n",
      "\n",
      "COLUMN MultipleLines: \n",
      "\n",
      "['Yes' 'No phone service' 'No'] \n",
      "\n",
      "\n",
      "COLUMN InternetService: \n",
      "\n",
      "['DSL' 'Fiber optic' 'No'] \n",
      "\n",
      "\n",
      "COLUMN OnlineSecurity: \n",
      "\n",
      "['No' 'Yes' 'No internet service'] \n",
      "\n",
      "\n",
      "COLUMN OnlineBackup: \n",
      "\n",
      "['Yes' 'No' 'No internet service'] \n",
      "\n",
      "\n",
      "COLUMN DeviceProtection: \n",
      "\n",
      "['No' 'Yes' 'No internet service'] \n",
      "\n",
      "\n",
      "COLUMN TechSupport: \n",
      "\n",
      "['Yes' 'No' 'No internet service'] \n",
      "\n",
      "\n",
      "COLUMN StreamingTV: \n",
      "\n",
      "['No' 'Yes' 'No internet service'] \n",
      "\n",
      "\n",
      "COLUMN StreamingMovies: \n",
      "\n",
      "['Yes' 'No' 'No internet service'] \n",
      "\n",
      "\n",
      "COLUMN Contract: \n",
      "\n",
      "['One year' 'Month-to-month' 'Two year'] \n",
      "\n",
      "\n",
      "COLUMN PaperlessBilling: \n",
      "\n",
      "['Yes' 'No'] \n",
      "\n",
      "\n",
      "COLUMN PaymentMethod: \n",
      "\n",
      "['Mailed check' 'Credit card (automatic)' 'Bank transfer (automatic)'\n",
      " 'Electronic check'] \n",
      "\n",
      "\n",
      "COLUMN MonthlyCharges: \n",
      "\n",
      "[ 70.7   78.95  60.2   55.75  80.55 114.75  20.45  19.8   73.    64.1\n",
      "  87.7   60.6   20.5   25.4   67.5   80.85  19.1   98.7  108.9   69.8\n",
      "  81.25  96.2   51.55  50.15  54.6   81.5   24.95  20.3   68.75 103.45\n",
      "  43.65  58.35  98.9   85.9   83.75  96.05  96.9   54.65  70.75  78.8\n",
      "  66.4   80.3   75.45  84.45  83.8   24.85  49.9  106.15  38.55 108.2\n",
      "  20.4  114.6   68.95  71.    74.55  19.6   79.65  74.95  20.15  95.35\n",
      "  44.85  59.45  75.4   20.1   93.85  23.45  74.75  91.95  45.3  114.55\n",
      "  84.8   77.4   34.    74.45  74.8   45.35  83.9   54.2   90.55  73.35\n",
      "  77.15  30.1   98.75  50.6   59.75  20.05  97.    89.55  24.25  99.55\n",
      "  53.1   56.    92.2   19.75  94.55  95.15  59.9   57.15  86.6   75.\n",
      "  76.05 104.4   24.7   89.75 106.5   25.05 116.4   81.    24.9  100.6\n",
      "  94.75  45.9   71.65  39.65  69.35  49.65  86.55  84.1  104.1   73.75\n",
      "  80.   100.85  81.15  57.55  20.    54.4   64.05  55.7   91.35  43.75\n",
      "  26.35  19.4   25.1   66.7   56.75  82.45 118.6   44.8   45.    69.55\n",
      "  85.2   20.2   69.85  24.4   94.65  20.35  99.5   49.8   85.45 109.75\n",
      "  45.8   85.1   93.55  49.3   91.1   75.1   98.5   85.35  19.95  29.15\n",
      "  54.    35.3  101.9   25.75  97.55  60.25  85.25  20.9   88.8   55.55\n",
      "  35.7   59.8   79.85  20.75  51.05  90.8   25.15 104.85 102.8  100.35\n",
      "  65.25  71.1  104.8   79.05  50.45  19.7   83.4   66.05  20.25  85.95\n",
      "  69.05  69.45  44.75  44.45  19.85 109.8   70.9  104.45  18.8   62.05\n",
      " 108.1   89.    90.95  44.65  79.    99.15  69.1   67.25  50.9   78.35\n",
      "  99.    73.85  75.75  19.55  60.85 113.    29.4   19.65  74.9   55.9\n",
      " 105.55  24.1   19.35 108.35  26.25  48.35  89.5   34.6   60.    93.25\n",
      "  19.45 110.7   70.15  74.3  104.55  85.05  95.    68.15 109.    58.5\n",
      "  59.65  87.2  102.1   76.85  78.9   80.95  79.35 101.3   40.7   74.\n",
      "  84.3   77.65  53.55  94.7   99.25  90.45  20.7   20.55  64.45  23.55\n",
      "  49.2   19.25  85.4   74.1   19.2   96.85  24.65 117.2  105.15  83.35\n",
      "  19.5   73.05  51.5   18.9   19.9   69.2   84.35  99.35  61.75  70.65\n",
      "  74.15  25.    64.9   98.05  88.25  47.95 100.5   84.7   19.05  66.25\n",
      "  94.9   81.2  100.75  94.3   70.45  71.35  48.75  97.25  77.3   92.9\n",
      "  79.2  100.9   61.05  97.7   74.65  29.7   97.8   76.8   56.1   87.\n",
      "  80.6   74.4   55.1   94.05  88.9  104.3   95.7   99.65  99.85  90.05\n",
      "  99.3  111.6   92.    69.4   33.75  40.35  86.1   40.3   29.65 100.55\n",
      "  95.9   79.25  30.5   56.15  25.25  83.55  61.1   44.25  45.4   96.65\n",
      "  54.35  64.95  48.7   50.3   89.8   64.8   18.85  20.85  80.35  65.2\n",
      "  24.55  45.85  94.45 101.25  38.9   75.35 106.6   89.65  78.5   63.15\n",
      "  70.55  89.4   39.9   90.85  26.1   89.9  105.1   68.65  24.2   72.85\n",
      "  23.95  64.35  70.5   58.95  30.4  108.85 117.45  58.9   91.15  49.05\n",
      "  53.75  35.45  51.25  96.8  104.    96.4   69.3   61.65  25.2   49.4\n",
      "  47.15  70.4   45.45 107.4   89.45  80.45 107.55 111.95 110.25  84.9\n",
      "  90.3   99.7  116.25  72.8   51.2   39.    96.1   76.    84.2   78.\n",
      "  49.5   65.   101.15 115.1   98.25  80.9   39.5   50.35  57.8   79.6\n",
      "  84.85 104.5   25.55  45.2  104.6   55.25 104.9  110.1   65.7   24.3\n",
      "  76.55  23.8   94.2   81.95  57.65 112.35  88.95  44.1  114.7   84.75\n",
      "  92.1   61.4   18.95  84.6  106.1   94.   104.05  40.15  45.15 104.15\n",
      "  46.    51.45 109.3  110.75  90.1   43.95  48.6   25.5   95.25  83.7\n",
      "  79.45  79.15  98.2   49.55 115.05  60.45  97.2   70.05 103.4   55.8\n",
      "  80.8  102.55  80.5   61.5   34.55  24.45  99.75  95.5  100.7   86.85\n",
      " 104.65  80.1   88.05 108.6   51.8   75.65  26.3   94.5  116.8   63.9\n",
      " 116.    52.7   95.2   88.85 106.35 110.3   45.55  23.65  50.25 109.1\n",
      "  80.7   64.4   96.55  76.25 103.9   75.85 108.25  91.45  84.95  54.55\n",
      "  20.8   61.2   21.3   58.6   39.2   84.4   49.15  85.15  34.65  43.7\n",
      "  59.4   77.5   56.25  98.3   90.15  44.3  103.05  95.4   40.9   85.3\n",
      "  54.75 115.55 105.35  19.3   78.05  20.65  86.05  53.95  65.6   78.75\n",
      " 106.    46.35  94.1   53.85  44.   116.45  90.4  108.    81.6  103.85\n",
      "  73.55  73.3  101.4   47.6   80.25  48.8   48.65  43.8   90.35 107.95\n",
      "  35.9   55.65  19.    95.45  75.6   82.15  70.35 100.   109.5  106.4\n",
      " 114.95 101.    92.55 105.5   85.65  87.25  95.65 100.3   87.35  75.2\n",
      "  55.15  76.1   93.8   55.    92.4   91.    40.65  74.85  55.3   93.7\n",
      " 103.7   36.25  83.3   55.05  42.35  23.75  45.5  105.65  66.5   70.25\n",
      " 108.4   73.6  102.4   47.85  52.5   54.45 109.4   83.85  95.55 113.4\n",
      "  88.35  68.45  73.9   50.05  98.8  102.    80.05  48.55  39.85  93.05\n",
      "  64.65  85.    72.95  54.8   25.3   94.4   44.95  74.35  91.75  65.5\n",
      "  99.4   82.05  95.6   86.25  79.9   75.3   59.3  108.75  81.3   29.05\n",
      " 106.7   80.4   51.15  90.7   82.3   75.5   85.6   29.6   99.9  100.2\n",
      " 104.75  25.45  70.1  101.35  91.5   29.45  68.85  69.    24.75  51.\n",
      "  77.55  73.5   78.1   87.15  54.5   24.5   87.1  110.6  103.95 105.25\n",
      "  35.05  56.4  116.1  110.2   96.15  82.65 116.85  70.95  64.75 107.5\n",
      " 106.65  58.7   35.2   86.4   82.5   50.2   86.45 100.25 106.05  81.9\n",
      "  40.2   29.9   74.05 100.8   72.    85.5   78.6  108.05  83.45  25.6\n",
      "  81.55 111.3   88.55  23.4  118.2   58.75  46.25  34.2   89.2   49.7\n",
      "  21.1   82.1   98.55  63.25  95.1   72.1  110.35  62.85 113.2   69.75\n",
      "  45.1   78.85  78.3   81.45  95.05  44.55  86.7   75.9   56.35  55.2\n",
      "  70.    72.9   86.3   55.45  53.45  63.95  24.35  98.35 111.2   73.8\n",
      "  46.3   86.8   25.8  115.15  35.5   98.15  98.4   66.    87.4   91.25\n",
      "  39.1  106.75  74.25  44.05  83.15  78.45  43.9   50.95  79.55  69.95\n",
      "  92.05 105.    94.95 105.7   21.05  48.45 109.9   86.65  45.25  87.05\n",
      " 102.6   55.85  20.6   60.3   81.1   48.85  56.55  91.85  66.85  46.1\n",
      "  64.2   79.3   79.4   40.55 100.4   97.05  69.15  61.3   67.45  24.8\n",
      "  30.85  94.8   79.7   20.95  45.95  54.25  97.65  49.    59.85 110.65\n",
      "  29.35  89.7   67.65  91.7   71.05 103.15  56.6   61.9   84.5   79.75\n",
      " 105.9   54.95  89.3  105.75  94.25 105.95 103.3   93.5   50.5   62.8\n",
      "  69.9   89.1   24.05  61.45  83.25  75.8   86.15  68.9   81.05 112.1\n",
      "  89.85  44.5   87.45  76.4   40.75  92.35  52.3   83.    77.    33.5\n",
      " 100.1  102.35  49.45  48.95  72.35  76.35  24.6   83.2   79.1   88.1\n",
      " 114.9   94.85 114.3  102.9   79.95 111.4   44.2   76.15  89.25  60.65\n",
      "  90.6   40.05 107.15  59.6   53.5   21.15 111.15  81.4   65.05  90.65\n",
      "  50.    68.05  70.85  70.2   75.15  99.45 101.1   86.    60.95  35.75\n",
      "  47.05  69.65  33.65  58.4   40.1   89.05  54.15  95.85  80.2   49.25\n",
      "  61.25  19.15 109.55  25.7   57.45  84.65  84.    35.4   50.55  56.3\n",
      "  35.15 107.6   92.5   42.1   53.65  34.7   64.15  94.35  45.7  100.15\n",
      "  99.95  68.6   77.85] \n",
      "\n",
      "\n",
      "COLUMN TotalCharges: \n",
      "\n",
      "['2511.95' '2839.65' '3582.4' ... '63.15' '299.2' '2049.05'] \n",
      "\n",
      "\n"
     ]
    }
   ],
   "source": [
    "for column in to_vis.columns:\n",
    "    print(f\"COLUMN {column}: \\n\")\n",
    "    print(f\"{to_vis.loc[:, column].unique()} \\n\\n\")"
   ]
  },
  {
   "cell_type": "code",
   "execution_count": null,
   "id": "64bf2ea5-2412-4152-9173-3f600fab6651",
   "metadata": {},
   "outputs": [],
   "source": []
  },
  {
   "cell_type": "code",
   "execution_count": 70,
   "id": "c7006ca5-3870-42aa-a1df-3c341e509914",
   "metadata": {},
   "outputs": [],
   "source": [
    "data.replace(\" \", \"0\", inplace=True)"
   ]
  },
  {
   "cell_type": "code",
   "execution_count": 71,
   "id": "2c72f9b3-10d8-4d86-8b84-3ae22f633559",
   "metadata": {},
   "outputs": [
    {
     "data": {
      "text/plain": [
       "8684.8"
      ]
     },
     "execution_count": 71,
     "metadata": {},
     "output_type": "execute_result"
    }
   ],
   "source": [
    "pd.to_numeric(data[\"TotalCharges\"]).max()"
   ]
  },
  {
   "cell_type": "code",
   "execution_count": 72,
   "id": "049e6866-81fb-4620-be03-36fc118fc107",
   "metadata": {},
   "outputs": [
    {
     "data": {
      "text/plain": [
       "2279.7343035638223"
      ]
     },
     "execution_count": 72,
     "metadata": {},
     "output_type": "execute_result"
    }
   ],
   "source": [
    "pd.to_numeric(data[\"TotalCharges\"]).mean()"
   ]
  },
  {
   "cell_type": "code",
   "execution_count": 73,
   "id": "0be4bddc-6651-4580-8522-c569415c77fc",
   "metadata": {},
   "outputs": [
    {
     "data": {
      "text/plain": [
       "118.75"
      ]
     },
     "execution_count": 73,
     "metadata": {},
     "output_type": "execute_result"
    }
   ],
   "source": [
    "pd.to_numeric(data[\"MonthlyCharges\"]).max()"
   ]
  },
  {
   "cell_type": "code",
   "execution_count": 74,
   "id": "21418791-5480-44a3-bc8f-e9bbdd221553",
   "metadata": {},
   "outputs": [
    {
     "data": {
      "text/plain": [
       "64.76169246059918"
      ]
     },
     "execution_count": 74,
     "metadata": {},
     "output_type": "execute_result"
    }
   ],
   "source": [
    "pd.to_numeric(data[\"MonthlyCharges\"]).mean()"
   ]
  },
  {
   "cell_type": "code",
   "execution_count": null,
   "id": "da1acd1f-b7b8-4e2b-b349-881566c0898a",
   "metadata": {},
   "outputs": [],
   "source": []
  }
 ],
 "metadata": {
  "kernelspec": {
   "display_name": "Python 3 (ipykernel)",
   "language": "python",
   "name": "python3"
  },
  "language_info": {
   "codemirror_mode": {
    "name": "ipython",
    "version": 3
   },
   "file_extension": ".py",
   "mimetype": "text/x-python",
   "name": "python",
   "nbconvert_exporter": "python",
   "pygments_lexer": "ipython3",
   "version": "3.7.9"
  }
 },
 "nbformat": 4,
 "nbformat_minor": 5
}
