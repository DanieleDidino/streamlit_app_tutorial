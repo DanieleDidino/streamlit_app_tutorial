{
 "cells": [
  {
   "cell_type": "markdown",
   "id": "e835c814-bd96-4b90-9078-6db47784ad52",
   "metadata": {},
   "source": [
    "## Building and Deploying a Streamlit App for Maching Learning\n",
    "In this tutorial, we walk through how you can build and deploy a visual front-end to your machine learning applications. \n",
    "We will use [streamlit](https://docs.streamlit.io/library/get-started/main-concepts), which an easy-to-use framework for creating interactive visualizations and applications in Python (this is in contrast to [plotly dash](https://dash.plotly.com) which, although technically python, relies a lot on HTML and CSS knowledge)."
   ]
  },
  {
   "cell_type": "markdown",
   "id": "daf95bf4-c2db-43e8-a81c-0cec57b980c5",
   "metadata": {},
   "source": [
    "### Installing Streamlit and Making a Virtual Environment \n",
    "When we make a new front-end application, we want to use a virtual environment. [Pipenv](https://pipenv-fork.readthedocs.io/en/latest/) will be our tool of choice. Pipenv makes it easy to combine both requirements management and virtual environments at the same time.\n",
    "\n",
    "First, move into the project directory:\n",
    "\n",
    "`cd my_project`\n",
    "\n",
    "Then, run:\n",
    "\n",
    "`pipenv shell` \n",
    "to activate the pipenv.\n",
    "\n",
    "That's all you have to do! \n",
    "\n",
    "After that, when you install packages via `pipenv install [package_name]`, they will be automatically added to your `Pipfile.lock`. No need to update a requirements file all the time!\n",
    "\n",
    "Note: if using pycharm, it can be helpful to use [these steps](https://stackoverflow.com/questions/46251411/how-do-i-properly-setup-pipenv-in-pycharm) to make sure you're using the virtual environment when running your code in pycharm. "
   ]
  },
  {
   "cell_type": "code",
   "execution_count": null,
   "id": "f13780ba-f42d-46b2-9e32-42b508f18c4e",
   "metadata": {},
   "outputs": [],
   "source": []
  },
  {
   "cell_type": "code",
   "execution_count": null,
   "id": "cd8479d2-269d-4d44-9d28-8c9add0efc41",
   "metadata": {},
   "outputs": [],
   "source": []
  },
  {
   "cell_type": "code",
   "execution_count": null,
   "id": "022b8843-3cdd-4588-813b-5527a8c209ca",
   "metadata": {},
   "outputs": [],
   "source": []
  },
  {
   "cell_type": "code",
   "execution_count": null,
   "id": "73c0207a-e834-40bf-95a2-4703caf82f14",
   "metadata": {},
   "outputs": [],
   "source": []
  },
  {
   "cell_type": "code",
   "execution_count": null,
   "id": "e5ee7c61-844f-4d5d-8b58-f4e9902768da",
   "metadata": {},
   "outputs": [],
   "source": []
  }
 ],
 "metadata": {
  "kernelspec": {
   "display_name": "Python 3 (ipykernel)",
   "language": "python",
   "name": "python3"
  },
  "language_info": {
   "codemirror_mode": {
    "name": "ipython",
    "version": 3
   },
   "file_extension": ".py",
   "mimetype": "text/x-python",
   "name": "python",
   "nbconvert_exporter": "python",
   "pygments_lexer": "ipython3",
   "version": "3.7.9"
  }
 },
 "nbformat": 4,
 "nbformat_minor": 5
}
