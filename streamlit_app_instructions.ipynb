{
 "cells": [
  {
   "cell_type": "markdown",
   "id": "e835c814-bd96-4b90-9078-6db47784ad52",
   "metadata": {},
   "source": [
    "## Building and Deploying a Streamlit App for Maching Learning\n",
    "In this tutorial, we walk through how you can build and deploy a visual front-end to your machine learning applications. \n",
    "We will use [streamlit](https://docs.streamlit.io/library/get-started/main-concepts), which an easy-to-use framework for creating interactive visualizations and applications in Python (this is in contrast to [plotly dash](https://dash.plotly.com) which, although technically python, relies a lot on HTML and CSS knowledge)."
   ]
  },
  {
   "cell_type": "markdown",
   "id": "daf95bf4-c2db-43e8-a81c-0cec57b980c5",
   "metadata": {},
   "source": [
    "### Installing Streamlit and Making a Virtual Environment \n",
    "When we make a new front-end application, we want to use a virtual environment. [Pipenv](https://pipenv-fork.readthedocs.io/en/latest/) will be our tool of choice. Pipenv makes it easy to combine both requirements management and virtual environments at the same time.\n",
    "\n",
    "First, move into the project directory:\n",
    "\n",
    "`cd my_project`\n",
    "\n",
    "Then, run:\n",
    "\n",
    "`pipenv shell` \n",
    "to activate the pipenv.\n",
    "\n",
    "That's all you have to do! \n",
    "\n",
    "After that, when you install packages via `pipenv install [package_name]`, they will be automatically added to your `Pipfile.lock`. No need to update a requirements file all the time!\n",
    "\n",
    "Note: if using pycharm, it can be helpful to use [these steps](https://stackoverflow.com/questions/46251411/how-do-i-properly-setup-pipenv-in-pycharm) to make sure you're using the virtual environment when running your code in pycharm. "
   ]
  },
  {
   "cell_type": "markdown",
   "id": "058faf86-20b0-407a-9b13-90607e6ccdf6",
   "metadata": {},
   "source": [
    "### Starting up the App\n",
    "Open the file entitled `streamlit_app.py`.\n",
    "\n",
    "Here you have a basic skeleton of an application. This code will simply display a table with 2 columns.\n",
    "\n",
    "\n",
    "<img src=\"./images/code_snippet_1.png\" width=\"300\"/>\n",
    "Code of the basic app.\n",
    "\n",
    "\n",
    "We run the app using the following command:\n",
    "\n",
    "`streamlit run streamlit_app.py`\n",
    "\n",
    "This command opens a new browser window with our streamlit app running. The great thing about streamlit is that the app will be automatically updated whenever we save the file. \n",
    "\n",
    "Running the command, we see the following output in the browser:\n",
    "<img src=\"./images/app_screenshot_1.png\" width=\"300\"/>\n"
   ]
  },
  {
   "cell_type": "markdown",
   "id": "bbdd4d2d-9bbc-4699-9f79-58cd251e9a75",
   "metadata": {},
   "source": [
    "### Working with real data \n",
    "Here, we will import the actual Telco churn data and use it as an example for making a streamlit application to deploy. "
   ]
  },
  {
   "cell_type": "code",
   "execution_count": null,
   "id": "022b8843-3cdd-4588-813b-5527a8c209ca",
   "metadata": {},
   "outputs": [],
   "source": [
    "import streamlit as st\n",
    "import pandas as pd\n",
    "\n",
    "# importing customer churn data\n",
    "data = pd.read_csv(\"./data/WA_Fn-UseC_-Telco-Customer-Churn.csv\", index_col=0)\n",
    "st.write(\"Churn Data\")\n",
    "st.write(data)"
   ]
  },
  {
   "cell_type": "markdown",
   "id": "27174323-98c5-4db2-bc0b-f3c45eb27cf9",
   "metadata": {},
   "source": [
    "Note: look at what happens when you replace the line\n",
    "`st.write(data)` in the code above with `st.table(data)`."
   ]
  },
  {
   "cell_type": "markdown",
   "id": "d68f46fd-6a7c-460b-bbe7-1f8478acd116",
   "metadata": {},
   "source": [
    "Now, our streamlit app looks like this:\n",
    "\n",
    "<img src=\"./images/app_screenshot_2.png\" width=\"300\"/>\n",
    "\n",
    "Note that it shows the entire dataframe, and we can even move around to explore the columns and rows."
   ]
  },
  {
   "cell_type": "markdown",
   "id": "da7c769f-f3f2-4e65-825b-ec1361100117",
   "metadata": {},
   "source": [
    "### Adding Elements\n",
    "Now, we will explore adding more elements to our app and making some visualizations. \n",
    "\n",
    "We'll start how we should always start in a new DS project: by visualizing the target.\n",
    "\n",
    "Add the code in the next cell to your streamlit app, underneath the dataset visualization. You'll now see a nice bar chart. "
   ]
  },
  {
   "cell_type": "markdown",
   "id": "b876e15a-698c-4a47-b520-2a6fde53f5b1",
   "metadata": {},
   "source": [
    "<img src=\"./images/app_screenshot_3.png\" width=\"300\"/>"
   ]
  },
  {
   "cell_type": "code",
   "execution_count": null,
   "id": "256507c8-a6ae-46a6-9d03-10b1aca6b8fd",
   "metadata": {},
   "outputs": [],
   "source": [
    "st.write(\"How many customers in the dataset churned?\")\n",
    "target_bins = data.loc[:, 'Churn'].value_counts()\n",
    "st.bar_chart(target_bins)"
   ]
  },
  {
   "cell_type": "markdown",
   "id": "66f1b89d-65a7-4cfa-805f-04d9024bc5be",
   "metadata": {},
   "source": []
  },
  {
   "cell_type": "code",
   "execution_count": null,
   "id": "1e76ddf4-cfcd-49ad-9d33-46762e5f4095",
   "metadata": {},
   "outputs": [],
   "source": []
  },
  {
   "cell_type": "code",
   "execution_count": null,
   "id": "a3216fa0-a7eb-4036-a91f-7f29321ce628",
   "metadata": {},
   "outputs": [],
   "source": []
  },
  {
   "cell_type": "code",
   "execution_count": null,
   "id": "46566c78-c856-4273-b8c7-0be2da072bdb",
   "metadata": {},
   "outputs": [],
   "source": []
  },
  {
   "cell_type": "code",
   "execution_count": null,
   "id": "802459fa-767e-44be-a8c5-c36c6846e21d",
   "metadata": {},
   "outputs": [],
   "source": []
  },
  {
   "cell_type": "code",
   "execution_count": null,
   "id": "c2d7d0b4-97b1-44aa-8dad-aa7554eb642f",
   "metadata": {},
   "outputs": [],
   "source": []
  },
  {
   "cell_type": "code",
   "execution_count": null,
   "id": "f4616617-bcc9-45b7-a374-6e5626077159",
   "metadata": {},
   "outputs": [],
   "source": []
  },
  {
   "cell_type": "code",
   "execution_count": null,
   "id": "0b8c5e5e-40e5-420c-8dfa-ca6d26805cb1",
   "metadata": {},
   "outputs": [],
   "source": []
  },
  {
   "cell_type": "code",
   "execution_count": null,
   "id": "60958410-4847-4138-b808-c989bd1c8ce1",
   "metadata": {},
   "outputs": [],
   "source": []
  },
  {
   "cell_type": "code",
   "execution_count": null,
   "id": "09c0c9be-5050-4c16-a690-23fd966a499b",
   "metadata": {},
   "outputs": [],
   "source": []
  },
  {
   "cell_type": "code",
   "execution_count": null,
   "id": "bfc1a7f9-8170-4866-984d-69602c03d10d",
   "metadata": {},
   "outputs": [],
   "source": []
  },
  {
   "cell_type": "code",
   "execution_count": null,
   "id": "1c0f6ee6-47d8-43be-8110-3133757727e0",
   "metadata": {},
   "outputs": [],
   "source": []
  },
  {
   "cell_type": "code",
   "execution_count": null,
   "id": "e0ab4990-11ab-4f8c-90be-b62a0f4b2b04",
   "metadata": {},
   "outputs": [],
   "source": []
  },
  {
   "cell_type": "code",
   "execution_count": null,
   "id": "716cd30f-a707-4d2b-a2a0-ffe4fc405d08",
   "metadata": {},
   "outputs": [],
   "source": []
  },
  {
   "cell_type": "code",
   "execution_count": null,
   "id": "a60fc2d4-01fe-44bd-8bee-2706427a8a0c",
   "metadata": {},
   "outputs": [],
   "source": []
  },
  {
   "cell_type": "markdown",
   "id": "5ee37fca-35c7-4f5f-a0f6-7a37a6b894cb",
   "metadata": {},
   "source": [
    "Data Analysis:"
   ]
  },
  {
   "cell_type": "code",
   "execution_count": 5,
   "id": "2fdee41c-938e-40ab-8f7f-745e60c87eaf",
   "metadata": {},
   "outputs": [],
   "source": [
    "import pandas as pd\n",
    "import matplotlib.pyplot as plt"
   ]
  },
  {
   "cell_type": "code",
   "execution_count": 4,
   "id": "457c42fe-a382-4f1e-9539-e8e6bac41f03",
   "metadata": {},
   "outputs": [],
   "source": [
    "data = pd.read_csv(\"./data/WA_Fn-UseC_-Telco-Customer-Churn.csv\", index_col=0)"
   ]
  },
  {
   "cell_type": "code",
   "execution_count": 11,
   "id": "88a62810-6a1b-44c0-9e72-bb818f94f2e1",
   "metadata": {},
   "outputs": [
    {
     "data": {
      "text/plain": [
       "Index(['gender', 'SeniorCitizen', 'Partner', 'Dependents', 'tenure',\n",
       "       'PhoneService', 'MultipleLines', 'InternetService', 'OnlineSecurity',\n",
       "       'OnlineBackup', 'DeviceProtection', 'TechSupport', 'StreamingTV',\n",
       "       'StreamingMovies', 'Contract', 'PaperlessBilling', 'PaymentMethod',\n",
       "       'MonthlyCharges', 'TotalCharges', 'Churn'],\n",
       "      dtype='object')"
      ]
     },
     "execution_count": 11,
     "metadata": {},
     "output_type": "execute_result"
    }
   ],
   "source": [
    "data.columns"
   ]
  },
  {
   "cell_type": "markdown",
   "id": "2c27c34f-94a4-48da-a18c-d913c033187e",
   "metadata": {},
   "source": [
    "Training Model"
   ]
  },
  {
   "cell_type": "code",
   "execution_count": 16,
   "id": "37b3ddba-53ae-41af-8224-07b7ef0da01b",
   "metadata": {},
   "outputs": [],
   "source": [
    "# generating test data\n",
    "from sklearn.model_selection import train_test_split"
   ]
  },
  {
   "cell_type": "code",
   "execution_count": 18,
   "id": "d991510d-d5b7-406a-b628-59af73379435",
   "metadata": {},
   "outputs": [],
   "source": [
    "X = data.drop(columns=\"Churn\")\n",
    "y = data.loc[:, \"Churn\"]"
   ]
  },
  {
   "cell_type": "code",
   "execution_count": null,
   "id": "ad0ba73e-4ffb-4b28-ba41-7defc817c5b5",
   "metadata": {},
   "outputs": [],
   "source": []
  },
  {
   "cell_type": "code",
   "execution_count": null,
   "id": "f8679945-f60a-4677-a8b6-50e26a7677b9",
   "metadata": {},
   "outputs": [],
   "source": []
  },
  {
   "cell_type": "code",
   "execution_count": 31,
   "id": "9cf6d554-1217-48df-b774-9e2dc1f15c4a",
   "metadata": {},
   "outputs": [],
   "source": [
    "X_train, X_test, Y_train, Y_test = train_test_split(X, y)"
   ]
  },
  {
   "cell_type": "code",
   "execution_count": 32,
   "id": "96a44132-3fc5-4d8c-9f58-f9592bddf550",
   "metadata": {},
   "outputs": [
    {
     "data": {
      "text/plain": [
       "(1761, 19)"
      ]
     },
     "execution_count": 32,
     "metadata": {},
     "output_type": "execute_result"
    }
   ],
   "source": [
    "X_test.shape"
   ]
  },
  {
   "cell_type": "code",
   "execution_count": 33,
   "id": "489096dc-4b96-4518-be0c-b42ebf7fa10a",
   "metadata": {},
   "outputs": [
    {
     "data": {
      "text/plain": [
       "(1761,)"
      ]
     },
     "execution_count": 33,
     "metadata": {},
     "output_type": "execute_result"
    }
   ],
   "source": [
    "Y_test.shape"
   ]
  },
  {
   "cell_type": "code",
   "execution_count": 38,
   "id": "367ef38b-f335-4a20-b5ba-168162a2521a",
   "metadata": {},
   "outputs": [],
   "source": [
    "# Further splitting X into validation and test\n",
    "training_data = pd.concat([X_train, Y_train], axis=1)\n",
    "full_test_data = pd.concat([X_test, Y_test], axis=1)\n",
    "holdout_data = full_test_data.iloc[:1000, :]\n",
    "val_data = full_test_data.iloc[1000:, :]"
   ]
  },
  {
   "cell_type": "code",
   "execution_count": 39,
   "id": "d5216af9-7355-4e08-82fa-d57e399fa9a0",
   "metadata": {},
   "outputs": [
    {
     "data": {
      "text/plain": [
       "(5282, 20)"
      ]
     },
     "execution_count": 39,
     "metadata": {},
     "output_type": "execute_result"
    }
   ],
   "source": [
    "training_data.shape"
   ]
  },
  {
   "cell_type": "code",
   "execution_count": 40,
   "id": "95aae97c-6018-4c8c-ab92-a688314efc03",
   "metadata": {},
   "outputs": [
    {
     "data": {
      "text/plain": [
       "(761, 20)"
      ]
     },
     "execution_count": 40,
     "metadata": {},
     "output_type": "execute_result"
    }
   ],
   "source": [
    "val_data.shape"
   ]
  },
  {
   "cell_type": "code",
   "execution_count": 41,
   "id": "5d56ad8c-3594-43cc-83bf-c96f839373e8",
   "metadata": {},
   "outputs": [
    {
     "data": {
      "text/plain": [
       "(1000, 20)"
      ]
     },
     "execution_count": 41,
     "metadata": {},
     "output_type": "execute_result"
    }
   ],
   "source": [
    "holdout_data.shape"
   ]
  },
  {
   "cell_type": "code",
   "execution_count": 43,
   "id": "d61e0210-0eed-4b6e-a097-fc4793d75042",
   "metadata": {},
   "outputs": [],
   "source": [
    "training_data.to_csv('./data/training_data.csv')\n",
    "holdout_data.to_csv('./data/holdout_data.csv')\n",
    "val_data.to_csv('./data/validation_data.csv')"
   ]
  },
  {
   "cell_type": "code",
   "execution_count": 44,
   "id": "d1ae4b0b-d54f-4d4b-9e00-aed984dbb1d9",
   "metadata": {},
   "outputs": [],
   "source": [
    "single_row = training_data.iloc[:1,:]"
   ]
  },
  {
   "cell_type": "code",
   "execution_count": 46,
   "id": "b8130b3f-4ddd-4731-be03-28250bcc504a",
   "metadata": {},
   "outputs": [],
   "source": [
    "single_row.to_csv(\"./data/single_row_to_check.csv\")"
   ]
  },
  {
   "cell_type": "code",
   "execution_count": 48,
   "id": "6de319ba-6da0-4cfe-a655-bb9f05a78173",
   "metadata": {},
   "outputs": [],
   "source": [
    "customer_data = X_test"
   ]
  },
  {
   "cell_type": "code",
   "execution_count": 49,
   "id": "a953e515-6a55-45ed-a37d-c1f9d973f066",
   "metadata": {},
   "outputs": [],
   "source": [
    "customer = \"4393-GEADV\""
   ]
  },
  {
   "cell_type": "code",
   "execution_count": 51,
   "id": "758ae31a-1c05-4679-bab0-e3e59dd931a4",
   "metadata": {},
   "outputs": [],
   "source": [
    "customer_data.reset_index(inplace=True)"
   ]
  },
  {
   "cell_type": "code",
   "execution_count": 53,
   "id": "7409f89a-87f5-4527-9b47-78b933e8e306",
   "metadata": {},
   "outputs": [
    {
     "data": {
      "text/html": [
       "<div>\n",
       "<style scoped>\n",
       "    .dataframe tbody tr th:only-of-type {\n",
       "        vertical-align: middle;\n",
       "    }\n",
       "\n",
       "    .dataframe tbody tr th {\n",
       "        vertical-align: top;\n",
       "    }\n",
       "\n",
       "    .dataframe thead th {\n",
       "        text-align: right;\n",
       "    }\n",
       "</style>\n",
       "<table border=\"1\" class=\"dataframe\">\n",
       "  <thead>\n",
       "    <tr style=\"text-align: right;\">\n",
       "      <th></th>\n",
       "      <th>customerID</th>\n",
       "      <th>gender</th>\n",
       "      <th>SeniorCitizen</th>\n",
       "      <th>Partner</th>\n",
       "      <th>Dependents</th>\n",
       "      <th>tenure</th>\n",
       "      <th>PhoneService</th>\n",
       "      <th>MultipleLines</th>\n",
       "      <th>InternetService</th>\n",
       "      <th>OnlineSecurity</th>\n",
       "      <th>OnlineBackup</th>\n",
       "      <th>DeviceProtection</th>\n",
       "      <th>TechSupport</th>\n",
       "      <th>StreamingTV</th>\n",
       "      <th>StreamingMovies</th>\n",
       "      <th>Contract</th>\n",
       "      <th>PaperlessBilling</th>\n",
       "      <th>PaymentMethod</th>\n",
       "      <th>MonthlyCharges</th>\n",
       "      <th>TotalCharges</th>\n",
       "    </tr>\n",
       "  </thead>\n",
       "  <tbody>\n",
       "    <tr>\n",
       "      <th>5</th>\n",
       "      <td>4393-GEADV</td>\n",
       "      <td>Male</td>\n",
       "      <td>0</td>\n",
       "      <td>Yes</td>\n",
       "      <td>Yes</td>\n",
       "      <td>70</td>\n",
       "      <td>Yes</td>\n",
       "      <td>Yes</td>\n",
       "      <td>Fiber optic</td>\n",
       "      <td>Yes</td>\n",
       "      <td>Yes</td>\n",
       "      <td>Yes</td>\n",
       "      <td>Yes</td>\n",
       "      <td>Yes</td>\n",
       "      <td>Yes</td>\n",
       "      <td>Two year</td>\n",
       "      <td>No</td>\n",
       "      <td>Credit card (automatic)</td>\n",
       "      <td>114.75</td>\n",
       "      <td>7842.3</td>\n",
       "    </tr>\n",
       "  </tbody>\n",
       "</table>\n",
       "</div>"
      ],
      "text/plain": [
       "   customerID gender  SeniorCitizen Partner Dependents  tenure PhoneService  \\\n",
       "5  4393-GEADV   Male              0     Yes        Yes      70          Yes   \n",
       "\n",
       "  MultipleLines InternetService OnlineSecurity OnlineBackup DeviceProtection  \\\n",
       "5           Yes     Fiber optic            Yes          Yes              Yes   \n",
       "\n",
       "  TechSupport StreamingTV StreamingMovies  Contract PaperlessBilling  \\\n",
       "5         Yes         Yes             Yes  Two year               No   \n",
       "\n",
       "             PaymentMethod  MonthlyCharges TotalCharges  \n",
       "5  Credit card (automatic)          114.75       7842.3  "
      ]
     },
     "execution_count": 53,
     "metadata": {},
     "output_type": "execute_result"
    }
   ],
   "source": [
    "customer_data.loc[customer_data.loc[:, 'customerID']==customer]"
   ]
  },
  {
   "cell_type": "code",
   "execution_count": null,
   "id": "a955d6ab-4487-4286-a245-606184103e84",
   "metadata": {},
   "outputs": [],
   "source": []
  }
 ],
 "metadata": {
  "kernelspec": {
   "display_name": "Python 3 (ipykernel)",
   "language": "python",
   "name": "python3"
  },
  "language_info": {
   "codemirror_mode": {
    "name": "ipython",
    "version": 3
   },
   "file_extension": ".py",
   "mimetype": "text/x-python",
   "name": "python",
   "nbconvert_exporter": "python",
   "pygments_lexer": "ipython3",
   "version": "3.7.9"
  }
 },
 "nbformat": 4,
 "nbformat_minor": 5
}
